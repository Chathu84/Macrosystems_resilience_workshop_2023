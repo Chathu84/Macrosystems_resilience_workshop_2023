{
 "cells": [
  {
   "cell_type": "markdown",
   "metadata": {
    "id": "bNSggxxZBBvq"
   },
   "source": [
    "## ECOSTRESS Data in Python\n",
    "\n",
    "[ECOSTRESS](https://www.nasa.gov/mission_pages/ecostress/overview), which stands for ECOsystem Spaceborne Thermal Radiometer Experiment on Space Station, is a radiometer that has been attached to the International Space Station since 2018, and collects temperature data on plants. This data can be used to monitor plant life and sense how much water they are releasing to manage their temperature. From this data, we can derive evapotransporation (ET), the Evaporative Stress Index, and calculate the Water Use Efficiency (WUE) of different areas. \n",
    "\n",
    "The raw data from this sensor can be difficult to deal with. It comes in h5 format like GEDI data does, but has a very different way of extracting the relevant information. [NASA built a tool](https://git.earthdata.nasa.gov/projects/LPDUR/repos/ecostress_swath2grid/browse) for users to use so that they can import any of the bands they want, alongside the geospatial band of the sensor, and create a much more familiar geotiff. The tool is in Python and can be run from a terminal. The format for changing the file format of the downloaded data is shown below.\n",
    "\n",
    "```\n",
    "> python ECOSTRESS_swath2grid.py --proj <insert reprojection desired, Options: GEO and UTM> --dir <insert input directory with ECOSTRESS files here>\n",
    "```"
   ]
  },
  {
   "cell_type": "markdown",
   "metadata": {},
   "source": [
    "## Types of ECOSTRESS Data\n",
    "\n",
    "The list of ECOSTRESS products, their names, and the data stored in them can be found [here](https://ecostress.jpl.nasa.gov/data/science-data-products-summary-table), with additional details being shown [here](https://ecostress.jpl.nasa.gov/data/user-guide-documents-table). \n",
    "\n",
    "ECOSTRESS, like many remote sensors, has different levels of data that have been cleaned up and made ready for analysis as you get to higher levels. The level 1 data will be raw data, or close to raw data, collected by the satellite that hasn't had many corrections or quality checks ran on it, if any at all. For ECOSTRESS, they provide raw radiance data, geolocation data, and other metadata such as the attitude the images were taken at. Thankfully, while these can be useful, NASA also provides products that combine this data with other data sources to run quality checks and corrections, and then use that to calculate different types of scientific data. Since the ECOSTRESS really is about detecting temperatures, it can be used in awesome ways to monitor active fires when it passes over them. It gets surface temperature information, which is a unique lens to view events like forest fires, as seen here from NASA's website viewing the 2022 Oak fire in California:\n",
    "\n",
    "<figure>\n",
    "    <a href=\"https://ecostress.jpl.nasa.gov/downloads/gallery/00097_oak_fire.jpg\">\n",
    "    <img src=\"https://ecostress.jpl.nasa.gov/downloads/gallery/00097_oak_fire.jpg\"></a>\n",
    "    <figcaption> A thermal view of the Oak fire on July 22nd, 2022. Source: NASA/JPL-Caltech  \n",
    "    </figcaption>\n",
    "</figure>\n",
    "\n",
    "\n",
    "We will be using the Water Use Efficiency (WUE) product NASA provides. The product we chose uses the Priestley-Taylor Jet Propulsion Laboratory algorithm and data from Landsat, MODIS, and other sources to calculate the WUE of plants imaged. A document explaining the work flow of how this product is created can be found [on NASA's website](https://ecostress.jpl.nasa.gov/downloads/userguides/4b_ECOSTRESS_UserGuide_L4_WUE_20190618.pdf). Reading the documentation, we can see that the units are gross primary production over evapotranspiration (GPP/ET)\n",
    "\n",
    "For this exercise, we needed both the WUE product (ECO4WUE.001) alongside the geospatial product (ECO1BGEO.001) in order to run them both through the tool NASA made to create a geotiff.\n",
    "\n",
    "We'll be opening the transformed data, exploring it, then combining it with the GEDI data to do a cross sensor analysis. "
   ]
  },
  {
   "cell_type": "code",
   "execution_count": 1,
   "metadata": {
    "id": "KKT5t6kvo-FK"
   },
   "outputs": [],
   "source": [
    "# Import the required libraries\n",
    "\n",
    "import os\n",
    "from os import path\n",
    "import matplotlib.pyplot as plt\n",
    "import geopandas as gpd\n",
    "import pandas as pd\n",
    "import rioxarray as rxr\n",
    "import rasterio as rio\n",
    "import earthpy as et\n",
    "import earthpy.plot as ep\n",
    "from rasterio.plot import plotting_extent\n",
    "from shapely.geometry import box\n",
    "import seaborn as sns"
   ]
  },
  {
   "cell_type": "code",
   "execution_count": 2,
   "metadata": {},
   "outputs": [],
   "source": [
    "# Get working directory\n",
    "data_path = os.path.join(et.io.HOME, \"GitHub\", \"ecostress_swath2grid\")"
   ]
  },
  {
   "cell_type": "markdown",
   "metadata": {},
   "source": [
    "## Using `rioxarray` to open raster data\n",
    "\n",
    "`rioxarray` is a package built on top of `xarray`, a powerful tool that can be used to handle raster data in many formats in Python. While there are many packages that can be used to do similar things, such as `rasterio` or `h5py`, one of the advantages of `rioxarray` is it's ability to open up many types of files easily, such as `.tif`, `.h5`, and `.netcdf` file, all of which are common file types in geospatial analysis. Here we use it to open up the `.tif` file, which we can then clip, access the data from, and plot. For more information on using `rioxarray` in Python, see our lesson [here](https://www.earthdatascience.org/courses/use-data-open-source-python/intro-raster-data-python/fundamentals-raster-data/open-lidar-raster-python-xarray/)."
   ]
  },
  {
   "cell_type": "code",
   "execution_count": 3,
   "metadata": {
    "id": "Iau8nCe1wBGM"
   },
   "outputs": [],
   "source": [
    "# Create paths to datasets\n",
    "\n",
    "# Open and clip the data, clipping it to the study area boundary\n",
    "\n",
    "# Open GEDI Data with GeoPandas"
   ]
  },
  {
   "cell_type": "markdown",
   "metadata": {},
   "source": [
    "## Plot the data\n",
    "\n",
    "Now that we've opened up the data, we can plot it in the Hayman fire bounds and see how it overlaps with our GEDI data from there. We'll use the `plot_bands` function found in `earthpy.plot` to easily plot our raster data. The function takes in rasters and will plot either a single band or multiple bands next to each other depending on how many bands are in your data. It is a good quick way to visualize raster data. \n",
    "\n",
    "In order to plot the GeoPandas vector data on top of raster data, we will need to give the raster an extent. We can create this using `plotting_extent` from the `rasterio` library, and assign the extent to our raster to ensure that it will line up with data in the same projection. To learn more on plotting extents, see [the plotting extent lesson](https://www.earthdatascience.org/courses/scientists-guide-to-plotting-data-in-python/plot-spatial-data/customize-raster-plots/plotting-extents/) on [earthdatascience.org](https://www.earthdatascience.org/)"
   ]
  },
  {
   "cell_type": "code",
   "execution_count": 4,
   "metadata": {},
   "outputs": [],
   "source": [
    "# Create plotting extent to plot data together"
   ]
  },
  {
   "cell_type": "code",
   "execution_count": 5,
   "metadata": {
    "colab": {
     "base_uri": "https://localhost:8080/",
     "height": 581
    },
    "id": "u_Kg2RfVxYnA",
    "outputId": "dedb5962-c61b-4c5a-be3c-bf5eeed5bde5"
   },
   "outputs": [],
   "source": [
    "# Plot the GEDI and ECOSTRESS data together!"
   ]
  },
  {
   "cell_type": "markdown",
   "metadata": {
    "id": "_Hx4Dvm7GszC"
   },
   "source": [
    "## Extract ECOSTRESS raster data to GEDI points\n",
    "\n",
    "Below are two functions that will extract the point values from a raster. We can use these to get the ECOSTRESS data at the points where we have GEDI data, and combine them into one dataset we can use to see the amount of aboveground biomass (AGBD) and ET together. This is a great way to enhance GEDI data with other datasets, and values like this could be extracted from rasters such as slope, aspect, or elevation. \n",
    "\n",
    "GEDI data is collected in circles with a 25 meter diameter over multiple passes, where as the ECOSTRESS data is collected in much wider images. The functions below use the center point of the GEDI footprint to determine which ECOSTRESS value to extract from the raster, using essentially a nearest neighbor approach. We do this instead of interpolating data to avoid using data that was never actually collected. "
   ]
  },
  {
   "cell_type": "code",
   "execution_count": 6,
   "metadata": {
    "id": "jHwpvsAL74yB"
   },
   "outputs": [],
   "source": [
    "def extract_points(raster_path, points):\n",
    "    \"\"\"\n",
    "    Get values of raster at series of points\n",
    "\n",
    "    Parameters\n",
    "    ----------\n",
    "    raster_path: path variable\n",
    "        Path to the raster to extract data from\n",
    "\n",
    "    points: GeoDataframe\n",
    "        List of points to use when extracting data from raster\n",
    "\n",
    "    Returns\n",
    "    -------\n",
    "    values : list\n",
    "        A list of values at each point from the raster\n",
    "    \"\"\"\n",
    "    # Open raster\n",
    "    raster = rio.open(raster_path)\n",
    "    values = []\n",
    "    # Create a bounding box for the raster and clip the points to that\n",
    "    points_clip = points.clip(box(*raster.bounds))\n",
    "    point_num = len(points_clip)\n",
    "    array = raster.read()\n",
    "    # Loop through points, get the value of the raster at each xy\n",
    "    for point in points_clip['geometry']:\n",
    "        x, y = point.xy[0][0], point.xy[1][0]\n",
    "        row, col = raster.index(x, y)\n",
    "        attrs = []\n",
    "        band_nums = array.shape[0]\n",
    "        for z in range(band_nums):\n",
    "            # Looping through all bands\n",
    "            attrs.append(array[z, row, col])\n",
    "            values.append([attrs, point])\n",
    "    # Close raster\n",
    "    raster.close()\n",
    "    return (values)\n",
    "\n",
    "\n",
    "def turn_raster_output_to_gdf(raster_path, points, column_name=\"col\"):\n",
    "    \"\"\"\n",
    "    Get values of raster at series of points and turn the values into a GeoDataFrame\n",
    "\n",
    "    Parameters\n",
    "    ----------\n",
    "    raster_path: path variable\n",
    "        Path to the raster to extract data from\n",
    "\n",
    "    points: GeoDataframe\n",
    "        List of points to use when extracting data from raster\n",
    "\n",
    "    column_name: string\n",
    "        Name of the column created in the pandas dataframe with the new data\n",
    "\n",
    "    Returns\n",
    "    -------\n",
    "    GeoDataFrame\n",
    "        A GeoDataFrame containing all the points and the values from the raster at each point\n",
    "    \"\"\"\n",
    "    # Runs extract_points\n",
    "    extracted_vals = extract_points(raster_path, points)\n",
    "    # Turn output into dataframe\n",
    "    output_pd = pd.DataFrame(extracted_vals)\n",
    "    lis = output_pd[0].to_list()\n",
    "    geom = output_pd[1].to_list()\n",
    "    # Turn output into labeled\n",
    "    org = pd.DataFrame(lis, columns=[column_name])\n",
    "    # read points into geodataframe\n",
    "    return (gpd.GeoDataFrame(org, geometry=geom, crs=points.crs))"
   ]
  },
  {
   "cell_type": "code",
   "execution_count": 7,
   "metadata": {
    "colab": {
     "base_uri": "https://localhost:8080/"
    },
    "id": "VpITS8pH9juG",
    "outputId": "c42dd083-d69b-46c2-c78e-b059146e8417"
   },
   "outputs": [],
   "source": [
    "# Extracting values from raster"
   ]
  },
  {
   "cell_type": "markdown",
   "metadata": {},
   "source": [
    "## Combining Spatial Data \n",
    "\n",
    "Combining the newly created data back to the GEDI data can be tricky. You want to make sure the correct values are matched when putting the two columns into a single dataset together. In order to ensure this, we can use the piece of information that both have in common: their spatial data. A spatial join will combine datasets based on spatial overlap, keeping the point data and adding any data from two dataframes into one based on their spatial relation. \n",
    "\n",
    "This process can be a little complicated, as it adds many unnecessary columns with old indexes, and may create a lot of extra rows with `na` values. Below, we can run the `sjoin` function, then clean up the resulting dataframe. "
   ]
  },
  {
   "cell_type": "code",
   "execution_count": 8,
   "metadata": {},
   "outputs": [],
   "source": [
    "# Running a spatial join on the GEDI data and the data gotten from ECOSTRESS. Dropping unnecessary indices and na values."
   ]
  },
  {
   "cell_type": "markdown",
   "metadata": {},
   "source": [
    "## Display the combined datasets.\n",
    "\n",
    "Now that we've extracted the values and ran a spatial join, we can see the results using `.head()` in `pandas`. "
   ]
  },
  {
   "cell_type": "code",
   "execution_count": 9,
   "metadata": {
    "colab": {
     "base_uri": "https://localhost:8080/",
     "height": 424
    },
    "id": "wfblOzzbMLtd",
    "outputId": "bf24e04a-8ab9-4871-bb46-04feeee8d834"
   },
   "outputs": [],
   "source": [
    "# Display dataframe with combined data!"
   ]
  },
  {
   "cell_type": "markdown",
   "metadata": {},
   "source": [
    "## Plotting our data against each other\n",
    "\n",
    "Here, we can plot our WUE data against the AGBD data to see if there's any sort of correlation between the two! It's important to keep in mind when comparing datasets like this any issues that may come from comparing them directly. For example, the fact that the GEDI data is collected over multiple days and aggregated means that comparing it to data collected in a single day, like ECOSTRESS, may not provide the results you are looking for. \n",
    "\n",
    "We will drop outliers from the dataset using the `.quantile()` method in `pandas`, then plot the WUE data against the AGBD data using the `seaborn` library, using a function called `.lmplot()`. This will plot the two variables and draw a linear regression as well. "
   ]
  },
  {
   "cell_type": "code",
   "execution_count": 10,
   "metadata": {},
   "outputs": [],
   "source": [
    "# Getting values for outliers\n",
    "\n",
    "# Removing outliers from dataset"
   ]
  },
  {
   "cell_type": "code",
   "execution_count": 11,
   "metadata": {},
   "outputs": [],
   "source": [
    "# Plotting the variables and the linear regression"
   ]
  }
 ],
 "metadata": {
  "colab": {
   "provenance": []
  },
  "kernelspec": {
   "display_name": "Python 3 (ipykernel)",
   "language": "python",
   "name": "python3"
  },
  "language_info": {
   "codemirror_mode": {
    "name": "ipython",
    "version": 3
   },
   "file_extension": ".py",
   "mimetype": "text/x-python",
   "name": "python",
   "nbconvert_exporter": "python",
   "pygments_lexer": "ipython3",
   "version": "3.8.13"
  }
 },
 "nbformat": 4,
 "nbformat_minor": 1
}
